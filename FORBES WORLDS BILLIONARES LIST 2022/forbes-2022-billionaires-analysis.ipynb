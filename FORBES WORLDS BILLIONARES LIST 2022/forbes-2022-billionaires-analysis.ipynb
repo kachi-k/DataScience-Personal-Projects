{
 "cells": [
  {
   "cell_type": "markdown",
   "id": "89256712",
   "metadata": {
    "papermill": {
     "duration": 0.030685,
     "end_time": "2022-06-27T23:19:41.752469",
     "exception": false,
     "start_time": "2022-06-27T23:19:41.721784",
     "status": "completed"
    },
    "tags": []
   },
   "source": [
    "# Importing Packages"
   ]
  },
  {
   "cell_type": "code",
   "execution_count": 1,
   "id": "4263d5da",
   "metadata": {
    "_cell_guid": "b1076dfc-b9ad-4769-8c92-a6c4dae69d19",
    "_uuid": "8f2839f25d086af736a60e9eeb907d3b93b6e0e5",
    "execution": {
     "iopub.execute_input": "2022-06-27T23:19:41.814657Z",
     "iopub.status.busy": "2022-06-27T23:19:41.814058Z",
     "iopub.status.idle": "2022-06-27T23:19:42.838544Z",
     "shell.execute_reply": "2022-06-27T23:19:42.837779Z"
    },
    "papermill": {
     "duration": 1.058389,
     "end_time": "2022-06-27T23:19:42.841338",
     "exception": false,
     "start_time": "2022-06-27T23:19:41.782949",
     "status": "completed"
    },
    "tags": []
   },
   "outputs": [],
   "source": [
    "import numpy as np # linear algebra\n",
    "import pandas as pd # data processing, CSV file I/O (e.g. pd.read_csv)\n",
    "import matplotlib.pyplot as plt\n",
    "import seaborn as sns\n",
    "%matplotlib inline\n",
    "import warnings\n",
    "warnings.filterwarnings(\"ignore\")"
   ]
  },
  {
   "cell_type": "markdown",
   "id": "b3b905fb",
   "metadata": {
    "papermill": {
     "duration": 0.029773,
     "end_time": "2022-06-27T23:19:42.901174",
     "exception": false,
     "start_time": "2022-06-27T23:19:42.871401",
     "status": "completed"
    },
    "tags": []
   },
   "source": [
    "# Loading Data"
   ]
  },
  {
   "cell_type": "code",
   "execution_count": 2,
   "id": "11e6d419",
   "metadata": {
    "execution": {
     "iopub.execute_input": "2022-06-27T23:19:42.963023Z",
     "iopub.status.busy": "2022-06-27T23:19:42.962511Z",
     "iopub.status.idle": "2022-06-27T23:19:43.095041Z",
     "shell.execute_reply": "2022-06-27T23:19:43.094359Z"
    },
    "papermill": {
     "duration": 0.166758,
     "end_time": "2022-06-27T23:19:43.097831",
     "exception": false,
     "start_time": "2022-06-27T23:19:42.931073",
     "status": "completed"
    },
    "tags": []
   },
   "outputs": [
    {
     "data": {
      "text/html": [
       "<div>\n",
       "<style scoped>\n",
       "    .dataframe tbody tr th:only-of-type {\n",
       "        vertical-align: middle;\n",
       "    }\n",
       "\n",
       "    .dataframe tbody tr th {\n",
       "        vertical-align: top;\n",
       "    }\n",
       "\n",
       "    .dataframe thead th {\n",
       "        text-align: right;\n",
       "    }\n",
       "</style>\n",
       "<table border=\"1\" class=\"dataframe\">\n",
       "  <thead>\n",
       "    <tr style=\"text-align: right;\">\n",
       "      <th></th>\n",
       "      <th>rank</th>\n",
       "      <th>personName</th>\n",
       "      <th>age</th>\n",
       "      <th>finalWorth</th>\n",
       "      <th>year</th>\n",
       "      <th>month</th>\n",
       "      <th>category</th>\n",
       "      <th>source</th>\n",
       "      <th>country</th>\n",
       "      <th>state</th>\n",
       "      <th>...</th>\n",
       "      <th>organization</th>\n",
       "      <th>selfMade</th>\n",
       "      <th>gender</th>\n",
       "      <th>birthDate</th>\n",
       "      <th>title</th>\n",
       "      <th>philanthropyScore</th>\n",
       "      <th>residenceMsa</th>\n",
       "      <th>numberOfSiblings</th>\n",
       "      <th>bio</th>\n",
       "      <th>about</th>\n",
       "    </tr>\n",
       "  </thead>\n",
       "  <tbody>\n",
       "    <tr>\n",
       "      <th>0</th>\n",
       "      <td>1</td>\n",
       "      <td>Elon Musk</td>\n",
       "      <td>50.0</td>\n",
       "      <td>219000.0</td>\n",
       "      <td>2022</td>\n",
       "      <td>4</td>\n",
       "      <td>Automotive</td>\n",
       "      <td>Tesla, SpaceX</td>\n",
       "      <td>United States</td>\n",
       "      <td>Texas</td>\n",
       "      <td>...</td>\n",
       "      <td>Tesla</td>\n",
       "      <td>True</td>\n",
       "      <td>M</td>\n",
       "      <td>1971-06-28</td>\n",
       "      <td>CEO</td>\n",
       "      <td>1.0</td>\n",
       "      <td>NaN</td>\n",
       "      <td>NaN</td>\n",
       "      <td>Elon Musk is working to revolutionize transpor...</td>\n",
       "      <td>Musk was accepted to a graduate program at Sta...</td>\n",
       "    </tr>\n",
       "    <tr>\n",
       "      <th>1</th>\n",
       "      <td>2</td>\n",
       "      <td>Jeff Bezos</td>\n",
       "      <td>58.0</td>\n",
       "      <td>171000.0</td>\n",
       "      <td>2022</td>\n",
       "      <td>4</td>\n",
       "      <td>Technology</td>\n",
       "      <td>Amazon</td>\n",
       "      <td>United States</td>\n",
       "      <td>Washington</td>\n",
       "      <td>...</td>\n",
       "      <td>Amazon</td>\n",
       "      <td>True</td>\n",
       "      <td>M</td>\n",
       "      <td>1964-01-12</td>\n",
       "      <td>Entrepreneur</td>\n",
       "      <td>1.0</td>\n",
       "      <td>Seattle-Tacoma-Bellevue, WA</td>\n",
       "      <td>NaN</td>\n",
       "      <td>Jeff Bezos founded e-commerce giant Amazon in ...</td>\n",
       "      <td>Growing up, Jeff Bezos worked summers on his g...</td>\n",
       "    </tr>\n",
       "    <tr>\n",
       "      <th>2</th>\n",
       "      <td>3</td>\n",
       "      <td>Bernard Arnault &amp; family</td>\n",
       "      <td>73.0</td>\n",
       "      <td>158000.0</td>\n",
       "      <td>2022</td>\n",
       "      <td>4</td>\n",
       "      <td>Fashion &amp; Retail</td>\n",
       "      <td>LVMH</td>\n",
       "      <td>France</td>\n",
       "      <td>NaN</td>\n",
       "      <td>...</td>\n",
       "      <td>LVMH Moët Hennessy Louis Vuitton</td>\n",
       "      <td>False</td>\n",
       "      <td>M</td>\n",
       "      <td>1949-03-05</td>\n",
       "      <td>Chairman and CEO</td>\n",
       "      <td>NaN</td>\n",
       "      <td>NaN</td>\n",
       "      <td>NaN</td>\n",
       "      <td>Bernard Arnault oversees the LVMH empire of so...</td>\n",
       "      <td>Arnault apparently wooed his wife, Helene Merc...</td>\n",
       "    </tr>\n",
       "    <tr>\n",
       "      <th>3</th>\n",
       "      <td>4</td>\n",
       "      <td>Bill Gates</td>\n",
       "      <td>66.0</td>\n",
       "      <td>129000.0</td>\n",
       "      <td>2022</td>\n",
       "      <td>4</td>\n",
       "      <td>Technology</td>\n",
       "      <td>Microsoft</td>\n",
       "      <td>United States</td>\n",
       "      <td>Washington</td>\n",
       "      <td>...</td>\n",
       "      <td>Bill &amp; Melinda Gates Foundation</td>\n",
       "      <td>True</td>\n",
       "      <td>M</td>\n",
       "      <td>1955-10-28</td>\n",
       "      <td>Cofounder</td>\n",
       "      <td>4.0</td>\n",
       "      <td>Seattle-Tacoma-Bellevue, WA</td>\n",
       "      <td>NaN</td>\n",
       "      <td>Bill Gates turned his fortune from software fi...</td>\n",
       "      <td>When Gates was a kid, he spent so much time re...</td>\n",
       "    </tr>\n",
       "    <tr>\n",
       "      <th>4</th>\n",
       "      <td>5</td>\n",
       "      <td>Warren Buffett</td>\n",
       "      <td>91.0</td>\n",
       "      <td>118000.0</td>\n",
       "      <td>2022</td>\n",
       "      <td>4</td>\n",
       "      <td>Finance &amp; Investments</td>\n",
       "      <td>Berkshire Hathaway</td>\n",
       "      <td>United States</td>\n",
       "      <td>Nebraska</td>\n",
       "      <td>...</td>\n",
       "      <td>Berkshire Hathaway</td>\n",
       "      <td>True</td>\n",
       "      <td>M</td>\n",
       "      <td>1930-08-30</td>\n",
       "      <td>CEO</td>\n",
       "      <td>5.0</td>\n",
       "      <td>Omaha, NE</td>\n",
       "      <td>NaN</td>\n",
       "      <td>Known as the \"Oracle of Omaha,\" Warren Buffett...</td>\n",
       "      <td>Buffett still lives in the same Omaha, Nebrask...</td>\n",
       "    </tr>\n",
       "  </tbody>\n",
       "</table>\n",
       "<p>5 rows × 22 columns</p>\n",
       "</div>"
      ],
      "text/plain": [
       "   rank                personName   age  finalWorth  year  month  \\\n",
       "0     1                 Elon Musk  50.0    219000.0  2022      4   \n",
       "1     2                Jeff Bezos  58.0    171000.0  2022      4   \n",
       "2     3  Bernard Arnault & family  73.0    158000.0  2022      4   \n",
       "3     4                Bill Gates  66.0    129000.0  2022      4   \n",
       "4     5            Warren Buffett  91.0    118000.0  2022      4   \n",
       "\n",
       "                category              source        country       state  ...  \\\n",
       "0             Automotive       Tesla, SpaceX  United States       Texas  ...   \n",
       "1             Technology              Amazon  United States  Washington  ...   \n",
       "2       Fashion & Retail                LVMH         France         NaN  ...   \n",
       "3             Technology           Microsoft  United States  Washington  ...   \n",
       "4  Finance & Investments  Berkshire Hathaway  United States    Nebraska  ...   \n",
       "\n",
       "                       organization selfMade gender   birthDate  \\\n",
       "0                             Tesla     True      M  1971-06-28   \n",
       "1                            Amazon     True      M  1964-01-12   \n",
       "2  LVMH Moët Hennessy Louis Vuitton    False      M  1949-03-05   \n",
       "3   Bill & Melinda Gates Foundation     True      M  1955-10-28   \n",
       "4                Berkshire Hathaway     True      M  1930-08-30   \n",
       "\n",
       "              title philanthropyScore                 residenceMsa  \\\n",
       "0               CEO               1.0                          NaN   \n",
       "1      Entrepreneur               1.0  Seattle-Tacoma-Bellevue, WA   \n",
       "2  Chairman and CEO               NaN                          NaN   \n",
       "3         Cofounder               4.0  Seattle-Tacoma-Bellevue, WA   \n",
       "4               CEO               5.0                    Omaha, NE   \n",
       "\n",
       "   numberOfSiblings                                                bio  \\\n",
       "0               NaN  Elon Musk is working to revolutionize transpor...   \n",
       "1               NaN  Jeff Bezos founded e-commerce giant Amazon in ...   \n",
       "2               NaN  Bernard Arnault oversees the LVMH empire of so...   \n",
       "3               NaN  Bill Gates turned his fortune from software fi...   \n",
       "4               NaN  Known as the \"Oracle of Omaha,\" Warren Buffett...   \n",
       "\n",
       "                                               about  \n",
       "0  Musk was accepted to a graduate program at Sta...  \n",
       "1  Growing up, Jeff Bezos worked summers on his g...  \n",
       "2  Arnault apparently wooed his wife, Helene Merc...  \n",
       "3  When Gates was a kid, he spent so much time re...  \n",
       "4  Buffett still lives in the same Omaha, Nebrask...  \n",
       "\n",
       "[5 rows x 22 columns]"
      ]
     },
     "execution_count": 2,
     "metadata": {},
     "output_type": "execute_result"
    }
   ],
   "source": [
    "bill_df = pd.read_csv('../input/forbes-worlds-billionaires-list-2022/forbes_2022_billionaires.csv')\n",
    "bill_df.head()"
   ]
  },
  {
   "cell_type": "code",
   "execution_count": 3,
   "id": "1871c17e",
   "metadata": {
    "execution": {
     "iopub.execute_input": "2022-06-27T23:19:43.162115Z",
     "iopub.status.busy": "2022-06-27T23:19:43.161691Z",
     "iopub.status.idle": "2022-06-27T23:19:43.166571Z",
     "shell.execute_reply": "2022-06-27T23:19:43.165938Z"
    },
    "papermill": {
     "duration": 0.039499,
     "end_time": "2022-06-27T23:19:43.168474",
     "exception": false,
     "start_time": "2022-06-27T23:19:43.128975",
     "status": "completed"
    },
    "tags": []
   },
   "outputs": [
    {
     "data": {
      "text/plain": [
       "(2668, 22)"
      ]
     },
     "execution_count": 3,
     "metadata": {},
     "output_type": "execute_result"
    }
   ],
   "source": [
    "bill_df.shape"
   ]
  },
  {
   "cell_type": "markdown",
   "id": "e0b52f86",
   "metadata": {
    "papermill": {
     "duration": 0.031066,
     "end_time": "2022-06-27T23:19:43.231113",
     "exception": false,
     "start_time": "2022-06-27T23:19:43.200047",
     "status": "completed"
    },
    "tags": []
   },
   "source": [
    "**The data consists of 2668 rows and 22 columns. Below we would explore the data and gain some insights on the data and consequently develop a few models**"
   ]
  },
  {
   "cell_type": "markdown",
   "id": "cf2f02e6",
   "metadata": {
    "papermill": {
     "duration": 0.033016,
     "end_time": "2022-06-27T23:19:43.295262",
     "exception": false,
     "start_time": "2022-06-27T23:19:43.262246",
     "status": "completed"
    },
    "tags": []
   },
   "source": [
    "# Exploratory Data Analysis"
   ]
  },
  {
   "cell_type": "code",
   "execution_count": 4,
   "id": "a9b4de85",
   "metadata": {
    "execution": {
     "iopub.execute_input": "2022-06-27T23:19:43.358852Z",
     "iopub.status.busy": "2022-06-27T23:19:43.358413Z",
     "iopub.status.idle": "2022-06-27T23:19:43.384827Z",
     "shell.execute_reply": "2022-06-27T23:19:43.383565Z"
    },
    "papermill": {
     "duration": 0.061716,
     "end_time": "2022-06-27T23:19:43.387828",
     "exception": false,
     "start_time": "2022-06-27T23:19:43.326112",
     "status": "completed"
    },
    "tags": []
   },
   "outputs": [
    {
     "name": "stdout",
     "output_type": "stream",
     "text": [
      "<class 'pandas.core.frame.DataFrame'>\n",
      "RangeIndex: 2668 entries, 0 to 2667\n",
      "Data columns (total 22 columns):\n",
      " #   Column                Non-Null Count  Dtype  \n",
      "---  ------                --------------  -----  \n",
      " 0   rank                  2668 non-null   int64  \n",
      " 1   personName            2668 non-null   object \n",
      " 2   age                   2582 non-null   float64\n",
      " 3   finalWorth            2668 non-null   float64\n",
      " 4   year                  2668 non-null   int64  \n",
      " 5   month                 2668 non-null   int64  \n",
      " 6   category              2668 non-null   object \n",
      " 7   source                2668 non-null   object \n",
      " 8   country               2655 non-null   object \n",
      " 9   state                 748 non-null    object \n",
      " 10  city                  2624 non-null   object \n",
      " 11  countryOfCitizenship  2668 non-null   object \n",
      " 12  organization          352 non-null    object \n",
      " 13  selfMade              2668 non-null   bool   \n",
      " 14  gender                2652 non-null   object \n",
      " 15  birthDate             2569 non-null   object \n",
      " 16  title                 401 non-null    object \n",
      " 17  philanthropyScore     396 non-null    float64\n",
      " 18  residenceMsa          639 non-null    object \n",
      " 19  numberOfSiblings      127 non-null    float64\n",
      " 20  bio                   2668 non-null   object \n",
      " 21  about                 1562 non-null   object \n",
      "dtypes: bool(1), float64(4), int64(3), object(14)\n",
      "memory usage: 440.4+ KB\n"
     ]
    }
   ],
   "source": [
    "bill_df.info()"
   ]
  },
  {
   "cell_type": "code",
   "execution_count": 5,
   "id": "d89b27e7",
   "metadata": {
    "execution": {
     "iopub.execute_input": "2022-06-27T23:19:43.454365Z",
     "iopub.status.busy": "2022-06-27T23:19:43.453335Z",
     "iopub.status.idle": "2022-06-27T23:19:43.461820Z",
     "shell.execute_reply": "2022-06-27T23:19:43.460852Z"
    },
    "papermill": {
     "duration": 0.045446,
     "end_time": "2022-06-27T23:19:43.465034",
     "exception": false,
     "start_time": "2022-06-27T23:19:43.419588",
     "status": "completed"
    },
    "tags": []
   },
   "outputs": [
    {
     "name": "stdout",
     "output_type": "stream",
     "text": [
      "Number of object type : 14\n",
      "Number of integer type : 3\n",
      "Number of float type : 4\n"
     ]
    }
   ],
   "source": [
    "obj = []\n",
    "integer = []\n",
    "flt = []\n",
    "for cols in bill_df:\n",
    "    if bill_df[cols].dtypes == 'object':\n",
    "        obj.append(cols)\n",
    "    elif bill_df[cols].dtypes == 'int64':\n",
    "        integer.append(cols)\n",
    "    elif bill_df[cols].dtypes == 'float64':\n",
    "        flt.append(cols)  \n",
    "print(f'Number of object type : {len(obj)}')\n",
    "print(f'Number of integer type : {len(integer)}')\n",
    "print(f'Number of float type : {len(flt)}')"
   ]
  },
  {
   "cell_type": "code",
   "execution_count": 6,
   "id": "bc336547",
   "metadata": {
    "execution": {
     "iopub.execute_input": "2022-06-27T23:19:43.532091Z",
     "iopub.status.busy": "2022-06-27T23:19:43.531795Z",
     "iopub.status.idle": "2022-06-27T23:19:43.543924Z",
     "shell.execute_reply": "2022-06-27T23:19:43.542940Z"
    },
    "papermill": {
     "duration": 0.048099,
     "end_time": "2022-06-27T23:19:43.546254",
     "exception": false,
     "start_time": "2022-06-27T23:19:43.498155",
     "status": "completed"
    },
    "tags": []
   },
   "outputs": [
    {
     "data": {
      "text/plain": [
       "rank                       0\n",
       "personName                 0\n",
       "age                       86\n",
       "finalWorth                 0\n",
       "year                       0\n",
       "month                      0\n",
       "category                   0\n",
       "source                     0\n",
       "country                   13\n",
       "state                   1920\n",
       "city                      44\n",
       "countryOfCitizenship       0\n",
       "organization            2316\n",
       "selfMade                   0\n",
       "gender                    16\n",
       "birthDate                 99\n",
       "title                   2267\n",
       "philanthropyScore       2272\n",
       "residenceMsa            2029\n",
       "numberOfSiblings        2541\n",
       "bio                        0\n",
       "about                   1106\n",
       "dtype: int64"
      ]
     },
     "execution_count": 6,
     "metadata": {},
     "output_type": "execute_result"
    }
   ],
   "source": [
    "bill_df.isna().sum()"
   ]
  },
  {
   "cell_type": "code",
   "execution_count": 7,
   "id": "0f65f393",
   "metadata": {
    "execution": {
     "iopub.execute_input": "2022-06-27T23:19:43.613762Z",
     "iopub.status.busy": "2022-06-27T23:19:43.613242Z",
     "iopub.status.idle": "2022-06-27T23:19:43.630517Z",
     "shell.execute_reply": "2022-06-27T23:19:43.629196Z"
    },
    "papermill": {
     "duration": 0.053459,
     "end_time": "2022-06-27T23:19:43.632931",
     "exception": false,
     "start_time": "2022-06-27T23:19:43.579472",
     "status": "completed"
    },
    "tags": []
   },
   "outputs": [
    {
     "name": "stdout",
     "output_type": "stream",
     "text": [
      "['rank', 'personName', 'age', 'finalWorth', 'year', 'month', 'category', 'source', 'country', 'city', 'countryOfCitizenship', 'selfMade', 'gender', 'birthDate', 'bio']\n"
     ]
    }
   ],
   "source": [
    "# gives a list of cols with null values less than 1000\n",
    "df = []\n",
    "for cols in bill_df:\n",
    "    if bill_df[cols].isna().sum().sum() < 1000:\n",
    "        df.append(cols)\n",
    "print(df)"
   ]
  },
  {
   "cell_type": "markdown",
   "id": "83fcd1b2",
   "metadata": {
    "papermill": {
     "duration": 0.0324,
     "end_time": "2022-06-27T23:19:43.699124",
     "exception": false,
     "start_time": "2022-06-27T23:19:43.666724",
     "status": "completed"
    },
    "tags": []
   },
   "source": [
    "**A few columns seem to have more than *1000* empty columns which would not help when making analysis. Therefore, we would drop those columns and work with the rest of the data.**"
   ]
  },
  {
   "cell_type": "code",
   "execution_count": 8,
   "id": "6d9863f2",
   "metadata": {
    "execution": {
     "iopub.execute_input": "2022-06-27T23:19:43.767418Z",
     "iopub.status.busy": "2022-06-27T23:19:43.767089Z",
     "iopub.status.idle": "2022-06-27T23:19:43.788507Z",
     "shell.execute_reply": "2022-06-27T23:19:43.787852Z"
    },
    "papermill": {
     "duration": 0.058908,
     "end_time": "2022-06-27T23:19:43.790870",
     "exception": false,
     "start_time": "2022-06-27T23:19:43.731962",
     "status": "completed"
    },
    "tags": []
   },
   "outputs": [
    {
     "data": {
      "text/html": [
       "<div>\n",
       "<style scoped>\n",
       "    .dataframe tbody tr th:only-of-type {\n",
       "        vertical-align: middle;\n",
       "    }\n",
       "\n",
       "    .dataframe tbody tr th {\n",
       "        vertical-align: top;\n",
       "    }\n",
       "\n",
       "    .dataframe thead th {\n",
       "        text-align: right;\n",
       "    }\n",
       "</style>\n",
       "<table border=\"1\" class=\"dataframe\">\n",
       "  <thead>\n",
       "    <tr style=\"text-align: right;\">\n",
       "      <th></th>\n",
       "      <th>rank</th>\n",
       "      <th>personName</th>\n",
       "      <th>age</th>\n",
       "      <th>finalWorth</th>\n",
       "      <th>year</th>\n",
       "      <th>month</th>\n",
       "      <th>category</th>\n",
       "      <th>source</th>\n",
       "      <th>country</th>\n",
       "      <th>city</th>\n",
       "      <th>countryOfCitizenship</th>\n",
       "      <th>selfMade</th>\n",
       "      <th>gender</th>\n",
       "      <th>birthDate</th>\n",
       "      <th>bio</th>\n",
       "    </tr>\n",
       "  </thead>\n",
       "  <tbody>\n",
       "    <tr>\n",
       "      <th>0</th>\n",
       "      <td>1</td>\n",
       "      <td>Elon Musk</td>\n",
       "      <td>50.0</td>\n",
       "      <td>219000.0</td>\n",
       "      <td>2022</td>\n",
       "      <td>4</td>\n",
       "      <td>Automotive</td>\n",
       "      <td>Tesla, SpaceX</td>\n",
       "      <td>United States</td>\n",
       "      <td>Austin</td>\n",
       "      <td>United States</td>\n",
       "      <td>True</td>\n",
       "      <td>M</td>\n",
       "      <td>1971-06-28</td>\n",
       "      <td>Elon Musk is working to revolutionize transpor...</td>\n",
       "    </tr>\n",
       "    <tr>\n",
       "      <th>1</th>\n",
       "      <td>2</td>\n",
       "      <td>Jeff Bezos</td>\n",
       "      <td>58.0</td>\n",
       "      <td>171000.0</td>\n",
       "      <td>2022</td>\n",
       "      <td>4</td>\n",
       "      <td>Technology</td>\n",
       "      <td>Amazon</td>\n",
       "      <td>United States</td>\n",
       "      <td>Seattle</td>\n",
       "      <td>United States</td>\n",
       "      <td>True</td>\n",
       "      <td>M</td>\n",
       "      <td>1964-01-12</td>\n",
       "      <td>Jeff Bezos founded e-commerce giant Amazon in ...</td>\n",
       "    </tr>\n",
       "    <tr>\n",
       "      <th>2</th>\n",
       "      <td>3</td>\n",
       "      <td>Bernard Arnault &amp; family</td>\n",
       "      <td>73.0</td>\n",
       "      <td>158000.0</td>\n",
       "      <td>2022</td>\n",
       "      <td>4</td>\n",
       "      <td>Fashion &amp; Retail</td>\n",
       "      <td>LVMH</td>\n",
       "      <td>France</td>\n",
       "      <td>Paris</td>\n",
       "      <td>France</td>\n",
       "      <td>False</td>\n",
       "      <td>M</td>\n",
       "      <td>1949-03-05</td>\n",
       "      <td>Bernard Arnault oversees the LVMH empire of so...</td>\n",
       "    </tr>\n",
       "    <tr>\n",
       "      <th>3</th>\n",
       "      <td>4</td>\n",
       "      <td>Bill Gates</td>\n",
       "      <td>66.0</td>\n",
       "      <td>129000.0</td>\n",
       "      <td>2022</td>\n",
       "      <td>4</td>\n",
       "      <td>Technology</td>\n",
       "      <td>Microsoft</td>\n",
       "      <td>United States</td>\n",
       "      <td>Medina</td>\n",
       "      <td>United States</td>\n",
       "      <td>True</td>\n",
       "      <td>M</td>\n",
       "      <td>1955-10-28</td>\n",
       "      <td>Bill Gates turned his fortune from software fi...</td>\n",
       "    </tr>\n",
       "    <tr>\n",
       "      <th>4</th>\n",
       "      <td>5</td>\n",
       "      <td>Warren Buffett</td>\n",
       "      <td>91.0</td>\n",
       "      <td>118000.0</td>\n",
       "      <td>2022</td>\n",
       "      <td>4</td>\n",
       "      <td>Finance &amp; Investments</td>\n",
       "      <td>Berkshire Hathaway</td>\n",
       "      <td>United States</td>\n",
       "      <td>Omaha</td>\n",
       "      <td>United States</td>\n",
       "      <td>True</td>\n",
       "      <td>M</td>\n",
       "      <td>1930-08-30</td>\n",
       "      <td>Known as the \"Oracle of Omaha,\" Warren Buffett...</td>\n",
       "    </tr>\n",
       "  </tbody>\n",
       "</table>\n",
       "</div>"
      ],
      "text/plain": [
       "   rank                personName   age  finalWorth  year  month  \\\n",
       "0     1                 Elon Musk  50.0    219000.0  2022      4   \n",
       "1     2                Jeff Bezos  58.0    171000.0  2022      4   \n",
       "2     3  Bernard Arnault & family  73.0    158000.0  2022      4   \n",
       "3     4                Bill Gates  66.0    129000.0  2022      4   \n",
       "4     5            Warren Buffett  91.0    118000.0  2022      4   \n",
       "\n",
       "                category              source        country     city  \\\n",
       "0             Automotive       Tesla, SpaceX  United States   Austin   \n",
       "1             Technology              Amazon  United States  Seattle   \n",
       "2       Fashion & Retail                LVMH         France    Paris   \n",
       "3             Technology           Microsoft  United States   Medina   \n",
       "4  Finance & Investments  Berkshire Hathaway  United States    Omaha   \n",
       "\n",
       "  countryOfCitizenship  selfMade gender   birthDate  \\\n",
       "0        United States      True      M  1971-06-28   \n",
       "1        United States      True      M  1964-01-12   \n",
       "2               France     False      M  1949-03-05   \n",
       "3        United States      True      M  1955-10-28   \n",
       "4        United States      True      M  1930-08-30   \n",
       "\n",
       "                                                 bio  \n",
       "0  Elon Musk is working to revolutionize transpor...  \n",
       "1  Jeff Bezos founded e-commerce giant Amazon in ...  \n",
       "2  Bernard Arnault oversees the LVMH empire of so...  \n",
       "3  Bill Gates turned his fortune from software fi...  \n",
       "4  Known as the \"Oracle of Omaha,\" Warren Buffett...  "
      ]
     },
     "execution_count": 8,
     "metadata": {},
     "output_type": "execute_result"
    }
   ],
   "source": [
    "bill_df = bill_df[['rank', 'personName', 'age', 'finalWorth', 'year', 'month', 'category', 'source', 'country', 'city', 'countryOfCitizenship', 'selfMade', 'gender', 'birthDate', 'bio']]\n",
    "bill_df.head()"
   ]
  },
  {
   "cell_type": "markdown",
   "id": "032f4082",
   "metadata": {
    "papermill": {
     "duration": 0.033526,
     "end_time": "2022-06-27T23:19:43.858249",
     "exception": false,
     "start_time": "2022-06-27T23:19:43.824723",
     "status": "completed"
    },
    "tags": []
   },
   "source": [
    "Taking further look at the data, more tidying up could be done. We would be performing the following steps: \n",
    "* The country, city, year, bio and month columns would be removed as they are redundant and unnecessary\n",
    "* BirthDate would be converted to a datatime column and fill with its mean\n",
    "* Fill the gender column with the mode, fill the age column with the mean"
   ]
  },
  {
   "cell_type": "code",
   "execution_count": 9,
   "id": "44b79d16",
   "metadata": {
    "execution": {
     "iopub.execute_input": "2022-06-27T23:19:43.927267Z",
     "iopub.status.busy": "2022-06-27T23:19:43.926966Z",
     "iopub.status.idle": "2022-06-27T23:19:43.947631Z",
     "shell.execute_reply": "2022-06-27T23:19:43.946558Z"
    },
    "papermill": {
     "duration": 0.057809,
     "end_time": "2022-06-27T23:19:43.949980",
     "exception": false,
     "start_time": "2022-06-27T23:19:43.892171",
     "status": "completed"
    },
    "tags": []
   },
   "outputs": [
    {
     "data": {
      "text/html": [
       "<div>\n",
       "<style scoped>\n",
       "    .dataframe tbody tr th:only-of-type {\n",
       "        vertical-align: middle;\n",
       "    }\n",
       "\n",
       "    .dataframe tbody tr th {\n",
       "        vertical-align: top;\n",
       "    }\n",
       "\n",
       "    .dataframe thead th {\n",
       "        text-align: right;\n",
       "    }\n",
       "</style>\n",
       "<table border=\"1\" class=\"dataframe\">\n",
       "  <thead>\n",
       "    <tr style=\"text-align: right;\">\n",
       "      <th></th>\n",
       "      <th>rank</th>\n",
       "      <th>personName</th>\n",
       "      <th>age</th>\n",
       "      <th>finalWorth</th>\n",
       "      <th>category</th>\n",
       "      <th>source</th>\n",
       "      <th>countryOfCitizenship</th>\n",
       "      <th>selfMade</th>\n",
       "      <th>gender</th>\n",
       "      <th>birthDate</th>\n",
       "    </tr>\n",
       "  </thead>\n",
       "  <tbody>\n",
       "    <tr>\n",
       "      <th>0</th>\n",
       "      <td>1</td>\n",
       "      <td>Elon Musk</td>\n",
       "      <td>50.0</td>\n",
       "      <td>219000.0</td>\n",
       "      <td>Automotive</td>\n",
       "      <td>Tesla, SpaceX</td>\n",
       "      <td>United States</td>\n",
       "      <td>True</td>\n",
       "      <td>M</td>\n",
       "      <td>1971-06-28</td>\n",
       "    </tr>\n",
       "    <tr>\n",
       "      <th>1</th>\n",
       "      <td>2</td>\n",
       "      <td>Jeff Bezos</td>\n",
       "      <td>58.0</td>\n",
       "      <td>171000.0</td>\n",
       "      <td>Technology</td>\n",
       "      <td>Amazon</td>\n",
       "      <td>United States</td>\n",
       "      <td>True</td>\n",
       "      <td>M</td>\n",
       "      <td>1964-01-12</td>\n",
       "    </tr>\n",
       "    <tr>\n",
       "      <th>2</th>\n",
       "      <td>3</td>\n",
       "      <td>Bernard Arnault &amp; family</td>\n",
       "      <td>73.0</td>\n",
       "      <td>158000.0</td>\n",
       "      <td>Fashion &amp; Retail</td>\n",
       "      <td>LVMH</td>\n",
       "      <td>France</td>\n",
       "      <td>False</td>\n",
       "      <td>M</td>\n",
       "      <td>1949-03-05</td>\n",
       "    </tr>\n",
       "    <tr>\n",
       "      <th>3</th>\n",
       "      <td>4</td>\n",
       "      <td>Bill Gates</td>\n",
       "      <td>66.0</td>\n",
       "      <td>129000.0</td>\n",
       "      <td>Technology</td>\n",
       "      <td>Microsoft</td>\n",
       "      <td>United States</td>\n",
       "      <td>True</td>\n",
       "      <td>M</td>\n",
       "      <td>1955-10-28</td>\n",
       "    </tr>\n",
       "    <tr>\n",
       "      <th>4</th>\n",
       "      <td>5</td>\n",
       "      <td>Warren Buffett</td>\n",
       "      <td>91.0</td>\n",
       "      <td>118000.0</td>\n",
       "      <td>Finance &amp; Investments</td>\n",
       "      <td>Berkshire Hathaway</td>\n",
       "      <td>United States</td>\n",
       "      <td>True</td>\n",
       "      <td>M</td>\n",
       "      <td>1930-08-30</td>\n",
       "    </tr>\n",
       "  </tbody>\n",
       "</table>\n",
       "</div>"
      ],
      "text/plain": [
       "   rank                personName   age  finalWorth               category  \\\n",
       "0     1                 Elon Musk  50.0    219000.0             Automotive   \n",
       "1     2                Jeff Bezos  58.0    171000.0             Technology   \n",
       "2     3  Bernard Arnault & family  73.0    158000.0       Fashion & Retail   \n",
       "3     4                Bill Gates  66.0    129000.0             Technology   \n",
       "4     5            Warren Buffett  91.0    118000.0  Finance & Investments   \n",
       "\n",
       "               source countryOfCitizenship  selfMade gender   birthDate  \n",
       "0       Tesla, SpaceX        United States      True      M  1971-06-28  \n",
       "1              Amazon        United States      True      M  1964-01-12  \n",
       "2                LVMH               France     False      M  1949-03-05  \n",
       "3           Microsoft        United States      True      M  1955-10-28  \n",
       "4  Berkshire Hathaway        United States      True      M  1930-08-30  "
      ]
     },
     "execution_count": 9,
     "metadata": {},
     "output_type": "execute_result"
    }
   ],
   "source": [
    "bill_df = bill_df.drop(['bio', 'country', 'year', 'month', 'city'], axis = 1)#drops columns\n",
    "bill_df.head()"
   ]
  },
  {
   "cell_type": "code",
   "execution_count": 10,
   "id": "6b1e64c5",
   "metadata": {
    "execution": {
     "iopub.execute_input": "2022-06-27T23:19:44.020683Z",
     "iopub.status.busy": "2022-06-27T23:19:44.020319Z",
     "iopub.status.idle": "2022-06-27T23:19:44.029385Z",
     "shell.execute_reply": "2022-06-27T23:19:44.028483Z"
    },
    "papermill": {
     "duration": 0.047506,
     "end_time": "2022-06-27T23:19:44.031690",
     "exception": false,
     "start_time": "2022-06-27T23:19:43.984184",
     "status": "completed"
    },
    "tags": []
   },
   "outputs": [],
   "source": [
    "bill_df['birthDate'] = pd.to_datetime(bill_df['birthDate'])"
   ]
  },
  {
   "cell_type": "code",
   "execution_count": 11,
   "id": "7061c359",
   "metadata": {
    "execution": {
     "iopub.execute_input": "2022-06-27T23:19:44.102186Z",
     "iopub.status.busy": "2022-06-27T23:19:44.101884Z",
     "iopub.status.idle": "2022-06-27T23:19:44.109642Z",
     "shell.execute_reply": "2022-06-27T23:19:44.108737Z"
    },
    "papermill": {
     "duration": 0.045616,
     "end_time": "2022-06-27T23:19:44.111830",
     "exception": false,
     "start_time": "2022-06-27T23:19:44.066214",
     "status": "completed"
    },
    "tags": []
   },
   "outputs": [],
   "source": [
    "def data_clean(df):\n",
    "    \"\"\"\n",
    "    This function replaces null values in a column\n",
    "    by the mea or mode depending on their data type.\n",
    "    \"\"\"\n",
    "    for cols in df:\n",
    "        if (df[cols].dtypes == 'object') & (df[cols].isna().sum().sum() > 0):\n",
    "            df[cols].fillna(df[cols].mode(), inplace = True)\n",
    "        elif (df[cols].dtypes != 'object') & (df[cols].isna().sum().sum() > 0):\n",
    "            df[cols].fillna(df[cols].mean(), inplace = True)"
   ]
  },
  {
   "cell_type": "code",
   "execution_count": 12,
   "id": "364cd846",
   "metadata": {
    "execution": {
     "iopub.execute_input": "2022-06-27T23:19:44.182659Z",
     "iopub.status.busy": "2022-06-27T23:19:44.182341Z",
     "iopub.status.idle": "2022-06-27T23:19:44.209729Z",
     "shell.execute_reply": "2022-06-27T23:19:44.208124Z"
    },
    "papermill": {
     "duration": 0.065884,
     "end_time": "2022-06-27T23:19:44.212519",
     "exception": false,
     "start_time": "2022-06-27T23:19:44.146635",
     "status": "completed"
    },
    "tags": []
   },
   "outputs": [
    {
     "name": "stdout",
     "output_type": "stream",
     "text": [
      "<class 'pandas.core.frame.DataFrame'>\n",
      "RangeIndex: 2668 entries, 0 to 2667\n",
      "Data columns (total 10 columns):\n",
      " #   Column                Non-Null Count  Dtype         \n",
      "---  ------                --------------  -----         \n",
      " 0   rank                  2668 non-null   int64         \n",
      " 1   personName            2668 non-null   object        \n",
      " 2   age                   2668 non-null   float64       \n",
      " 3   finalWorth            2668 non-null   float64       \n",
      " 4   category              2668 non-null   object        \n",
      " 5   source                2668 non-null   object        \n",
      " 6   countryOfCitizenship  2668 non-null   object        \n",
      " 7   selfMade              2668 non-null   bool          \n",
      " 8   gender                2652 non-null   object        \n",
      " 9   birthDate             2668 non-null   datetime64[ns]\n",
      "dtypes: bool(1), datetime64[ns](1), float64(2), int64(1), object(5)\n",
      "memory usage: 190.3+ KB\n"
     ]
    }
   ],
   "source": [
    "data_clean(bill_df)# function call\n",
    "bill_df.info()"
   ]
  },
  {
   "cell_type": "code",
   "execution_count": 13,
   "id": "e186bf41",
   "metadata": {
    "execution": {
     "iopub.execute_input": "2022-06-27T23:19:44.284875Z",
     "iopub.status.busy": "2022-06-27T23:19:44.284531Z",
     "iopub.status.idle": "2022-06-27T23:19:44.306151Z",
     "shell.execute_reply": "2022-06-27T23:19:44.305199Z"
    },
    "papermill": {
     "duration": 0.060037,
     "end_time": "2022-06-27T23:19:44.308132",
     "exception": false,
     "start_time": "2022-06-27T23:19:44.248095",
     "status": "completed"
    },
    "tags": []
   },
   "outputs": [
    {
     "data": {
      "text/html": [
       "<div>\n",
       "<style scoped>\n",
       "    .dataframe tbody tr th:only-of-type {\n",
       "        vertical-align: middle;\n",
       "    }\n",
       "\n",
       "    .dataframe tbody tr th {\n",
       "        vertical-align: top;\n",
       "    }\n",
       "\n",
       "    .dataframe thead th {\n",
       "        text-align: right;\n",
       "    }\n",
       "</style>\n",
       "<table border=\"1\" class=\"dataframe\">\n",
       "  <thead>\n",
       "    <tr style=\"text-align: right;\">\n",
       "      <th></th>\n",
       "      <th>rank</th>\n",
       "      <th>personName</th>\n",
       "      <th>age</th>\n",
       "      <th>finalWorth</th>\n",
       "      <th>category</th>\n",
       "      <th>source</th>\n",
       "      <th>countryOfCitizenship</th>\n",
       "      <th>selfMade</th>\n",
       "      <th>gender</th>\n",
       "      <th>birthDate</th>\n",
       "    </tr>\n",
       "  </thead>\n",
       "  <tbody>\n",
       "    <tr>\n",
       "      <th>0</th>\n",
       "      <td>1</td>\n",
       "      <td>Elon Musk</td>\n",
       "      <td>50</td>\n",
       "      <td>219000</td>\n",
       "      <td>Automotive</td>\n",
       "      <td>Tesla, SpaceX</td>\n",
       "      <td>United States</td>\n",
       "      <td>True</td>\n",
       "      <td>M</td>\n",
       "      <td>1971-06-28</td>\n",
       "    </tr>\n",
       "    <tr>\n",
       "      <th>1</th>\n",
       "      <td>2</td>\n",
       "      <td>Jeff Bezos</td>\n",
       "      <td>58</td>\n",
       "      <td>171000</td>\n",
       "      <td>Technology</td>\n",
       "      <td>Amazon</td>\n",
       "      <td>United States</td>\n",
       "      <td>True</td>\n",
       "      <td>M</td>\n",
       "      <td>1964-01-12</td>\n",
       "    </tr>\n",
       "    <tr>\n",
       "      <th>2</th>\n",
       "      <td>3</td>\n",
       "      <td>Bernard Arnault &amp; family</td>\n",
       "      <td>73</td>\n",
       "      <td>158000</td>\n",
       "      <td>Fashion &amp; Retail</td>\n",
       "      <td>LVMH</td>\n",
       "      <td>France</td>\n",
       "      <td>False</td>\n",
       "      <td>M</td>\n",
       "      <td>1949-03-05</td>\n",
       "    </tr>\n",
       "    <tr>\n",
       "      <th>3</th>\n",
       "      <td>4</td>\n",
       "      <td>Bill Gates</td>\n",
       "      <td>66</td>\n",
       "      <td>129000</td>\n",
       "      <td>Technology</td>\n",
       "      <td>Microsoft</td>\n",
       "      <td>United States</td>\n",
       "      <td>True</td>\n",
       "      <td>M</td>\n",
       "      <td>1955-10-28</td>\n",
       "    </tr>\n",
       "    <tr>\n",
       "      <th>4</th>\n",
       "      <td>5</td>\n",
       "      <td>Warren Buffett</td>\n",
       "      <td>91</td>\n",
       "      <td>118000</td>\n",
       "      <td>Finance &amp; Investments</td>\n",
       "      <td>Berkshire Hathaway</td>\n",
       "      <td>United States</td>\n",
       "      <td>True</td>\n",
       "      <td>M</td>\n",
       "      <td>1930-08-30</td>\n",
       "    </tr>\n",
       "    <tr>\n",
       "      <th>5</th>\n",
       "      <td>6</td>\n",
       "      <td>Larry Page</td>\n",
       "      <td>49</td>\n",
       "      <td>111000</td>\n",
       "      <td>Technology</td>\n",
       "      <td>Google</td>\n",
       "      <td>United States</td>\n",
       "      <td>True</td>\n",
       "      <td>M</td>\n",
       "      <td>1973-03-26</td>\n",
       "    </tr>\n",
       "    <tr>\n",
       "      <th>6</th>\n",
       "      <td>7</td>\n",
       "      <td>Sergey Brin</td>\n",
       "      <td>48</td>\n",
       "      <td>107000</td>\n",
       "      <td>Technology</td>\n",
       "      <td>Google</td>\n",
       "      <td>United States</td>\n",
       "      <td>True</td>\n",
       "      <td>M</td>\n",
       "      <td>1973-08-21</td>\n",
       "    </tr>\n",
       "    <tr>\n",
       "      <th>7</th>\n",
       "      <td>8</td>\n",
       "      <td>Larry Ellison</td>\n",
       "      <td>77</td>\n",
       "      <td>106000</td>\n",
       "      <td>Technology</td>\n",
       "      <td>software</td>\n",
       "      <td>United States</td>\n",
       "      <td>True</td>\n",
       "      <td>M</td>\n",
       "      <td>1944-08-17</td>\n",
       "    </tr>\n",
       "    <tr>\n",
       "      <th>8</th>\n",
       "      <td>9</td>\n",
       "      <td>Steve Ballmer</td>\n",
       "      <td>66</td>\n",
       "      <td>91400</td>\n",
       "      <td>Technology</td>\n",
       "      <td>Microsoft</td>\n",
       "      <td>United States</td>\n",
       "      <td>True</td>\n",
       "      <td>M</td>\n",
       "      <td>1956-03-24</td>\n",
       "    </tr>\n",
       "    <tr>\n",
       "      <th>9</th>\n",
       "      <td>10</td>\n",
       "      <td>Mukesh Ambani</td>\n",
       "      <td>64</td>\n",
       "      <td>90700</td>\n",
       "      <td>Diversified</td>\n",
       "      <td>diversified</td>\n",
       "      <td>India</td>\n",
       "      <td>False</td>\n",
       "      <td>M</td>\n",
       "      <td>1957-04-19</td>\n",
       "    </tr>\n",
       "  </tbody>\n",
       "</table>\n",
       "</div>"
      ],
      "text/plain": [
       "   rank                personName  age  finalWorth               category  \\\n",
       "0     1                 Elon Musk   50      219000             Automotive   \n",
       "1     2                Jeff Bezos   58      171000             Technology   \n",
       "2     3  Bernard Arnault & family   73      158000       Fashion & Retail   \n",
       "3     4                Bill Gates   66      129000             Technology   \n",
       "4     5            Warren Buffett   91      118000  Finance & Investments   \n",
       "5     6                Larry Page   49      111000             Technology   \n",
       "6     7               Sergey Brin   48      107000             Technology   \n",
       "7     8             Larry Ellison   77      106000             Technology   \n",
       "8     9             Steve Ballmer   66       91400             Technology   \n",
       "9    10             Mukesh Ambani   64       90700            Diversified   \n",
       "\n",
       "               source countryOfCitizenship selfMade gender  birthDate  \n",
       "0       Tesla, SpaceX        United States     True      M 1971-06-28  \n",
       "1              Amazon        United States     True      M 1964-01-12  \n",
       "2                LVMH               France    False      M 1949-03-05  \n",
       "3           Microsoft        United States     True      M 1955-10-28  \n",
       "4  Berkshire Hathaway        United States     True      M 1930-08-30  \n",
       "5              Google        United States     True      M 1973-03-26  \n",
       "6              Google        United States     True      M 1973-08-21  \n",
       "7            software        United States     True      M 1944-08-17  \n",
       "8           Microsoft        United States     True      M 1956-03-24  \n",
       "9         diversified                India    False      M 1957-04-19  "
      ]
     },
     "execution_count": 13,
     "metadata": {},
     "output_type": "execute_result"
    }
   ],
   "source": [
    "bill_df = bill_df.astype({\"finalWorth\": 'int64', \"age\": 'int64', \"selfMade\": 'object'}) # converts data type\n",
    "bill_df.head(10)"
   ]
  },
  {
   "cell_type": "code",
   "execution_count": 14,
   "id": "9c21e1ae",
   "metadata": {
    "execution": {
     "iopub.execute_input": "2022-06-27T23:19:44.380509Z",
     "iopub.status.busy": "2022-06-27T23:19:44.380028Z",
     "iopub.status.idle": "2022-06-27T23:19:44.699507Z",
     "shell.execute_reply": "2022-06-27T23:19:44.698336Z"
    },
    "papermill": {
     "duration": 0.35929,
     "end_time": "2022-06-27T23:19:44.702445",
     "exception": false,
     "start_time": "2022-06-27T23:19:44.343155",
     "status": "completed"
    },
    "tags": []
   },
   "outputs": [
    {
     "data": {
      "text/plain": [
       "<AxesSubplot:>"
      ]
     },
     "execution_count": 14,
     "metadata": {},
     "output_type": "execute_result"
    },
    {
     "data": {
      "image/png": "[encoded data removed]",
      "text/plain": [
       "<Figure size 432x288 with 2 Axes>"
      ]
     },
     "metadata": {
      "needs_background": "light"
     },
     "output_type": "display_data"
    }
   ],
   "source": [
    "sns.heatmap(bill_df.corr(), annot = True)"
   ]
  },
  {
   "cell_type": "markdown",
   "id": "69e5546c",
   "metadata": {
    "papermill": {
     "duration": 0.035712,
     "end_time": "2022-06-27T23:19:44.775171",
     "exception": false,
     "start_time": "2022-06-27T23:19:44.739459",
     "status": "completed"
    },
    "tags": []
   },
   "source": [
    "The correlation heatmap above shows that most of the columns are highly negatively correlated."
   ]
  },
  {
   "cell_type": "code",
   "execution_count": 15,
   "id": "de8e6523",
   "metadata": {
    "execution": {
     "iopub.execute_input": "2022-06-27T23:19:44.849256Z",
     "iopub.status.busy": "2022-06-27T23:19:44.848727Z",
     "iopub.status.idle": "2022-06-27T23:19:45.187718Z",
     "shell.execute_reply": "2022-06-27T23:19:45.186667Z"
    },
    "papermill": {
     "duration": 0.378778,
     "end_time": "2022-06-27T23:19:45.190060",
     "exception": false,
     "start_time": "2022-06-27T23:19:44.811282",
     "status": "completed"
    },
    "tags": []
   },
   "outputs": [
    {
     "data": {
      "image/png": "[encoded data removed]",
      "text/plain": [
       "<Figure size 720x432 with 1 Axes>"
      ]
     },
     "metadata": {
      "needs_background": "light"
     },
     "output_type": "display_data"
    }
   ],
   "source": [
    "bill_df.groupby('category')['personName'].count().plot(kind = 'barh', ylabel = 'Count of Billionaires', xlabel = 'Category', figsize=(10,6), color = 'm')\n",
    "plt.show()"
   ]
  },
  {
   "cell_type": "markdown",
   "id": "9e4fa054",
   "metadata": {
    "papermill": {
     "duration": 0.03713,
     "end_time": "2022-06-27T23:19:45.264504",
     "exception": false,
     "start_time": "2022-06-27T23:19:45.227374",
     "status": "completed"
    },
    "tags": []
   },
   "source": [
    "The plot above, shows the top three categories with the most billionaires, ann they are:\n",
    "* Finance and Investment\n",
    "* Technology\n",
    "* Manufacturing"
   ]
  },
  {
   "cell_type": "code",
   "execution_count": 16,
   "id": "2780fe9f",
   "metadata": {
    "execution": {
     "iopub.execute_input": "2022-06-27T23:19:45.341124Z",
     "iopub.status.busy": "2022-06-27T23:19:45.340845Z",
     "iopub.status.idle": "2022-06-27T23:19:45.350242Z",
     "shell.execute_reply": "2022-06-27T23:19:45.349537Z"
    },
    "papermill": {
     "duration": 0.050352,
     "end_time": "2022-06-27T23:19:45.352181",
     "exception": false,
     "start_time": "2022-06-27T23:19:45.301829",
     "status": "completed"
    },
    "tags": []
   },
   "outputs": [
    {
     "data": {
      "text/plain": [
       "selfMade\n",
       "False     777\n",
       "True     1891\n",
       "Name: personName, dtype: int64"
      ]
     },
     "execution_count": 16,
     "metadata": {},
     "output_type": "execute_result"
    }
   ],
   "source": [
    "bill_df.groupby('selfMade')['personName'].count()"
   ]
  },
  {
   "cell_type": "code",
   "execution_count": 17,
   "id": "694e4c3b",
   "metadata": {
    "execution": {
     "iopub.execute_input": "2022-06-27T23:19:45.430680Z",
     "iopub.status.busy": "2022-06-27T23:19:45.429874Z",
     "iopub.status.idle": "2022-06-27T23:19:45.624425Z",
     "shell.execute_reply": "2022-06-27T23:19:45.623368Z"
    },
    "papermill": {
     "duration": 0.237576,
     "end_time": "2022-06-27T23:19:45.627074",
     "exception": false,
     "start_time": "2022-06-27T23:19:45.389498",
     "status": "completed"
    },
    "tags": []
   },
   "outputs": [
    {
     "data": {
      "text/plain": [
       "(array([0, 1]), [Text(0, 0, 'False'), Text(1, 0, 'True')])"
      ]
     },
     "execution_count": 17,
     "metadata": {},
     "output_type": "execute_result"
    },
    {
     "data": {
      "image/png": "[encoded data removed]",
      "text/plain": [
       "<Figure size 720x432 with 1 Axes>"
      ]
     },
     "metadata": {
      "needs_background": "light"
     },
     "output_type": "display_data"
    }
   ],
   "source": [
    "bill_df.groupby('selfMade')['personName'].count().plot(kind = 'bar', xlabel = 'SelfMade Category', ylabel = 'Number of Billionaire', title = 'Distribution of Self-Made Billionaires', figsize=(10,6), color = 'm')\n",
    "plt.xticks(rotation =0)\n"
   ]
  },
  {
   "cell_type": "markdown",
   "id": "72d91a25",
   "metadata": {
    "papermill": {
     "duration": 0.03941,
     "end_time": "2022-06-27T23:19:45.706500",
     "exception": false,
     "start_time": "2022-06-27T23:19:45.667090",
     "status": "completed"
    },
    "tags": []
   },
   "source": [
    "Grouping billionaires into selfMade category, it is observed that a majority of them can be categorised as selfmade and less than half of that number are not. We can call this an **imbalance**.\n",
    "\n",
    "Moving further, it would be usefull to check what perctentage of gender are or are not selfmade."
   ]
  },
  {
   "cell_type": "code",
   "execution_count": 18,
   "id": "65504673",
   "metadata": {
    "execution": {
     "iopub.execute_input": "2022-06-27T23:19:45.788236Z",
     "iopub.status.busy": "2022-06-27T23:19:45.787933Z",
     "iopub.status.idle": "2022-06-27T23:19:46.361489Z",
     "shell.execute_reply": "2022-06-27T23:19:46.360359Z"
    },
    "papermill": {
     "duration": 0.617565,
     "end_time": "2022-06-27T23:19:46.363902",
     "exception": false,
     "start_time": "2022-06-27T23:19:45.746337",
     "status": "completed"
    },
    "tags": []
   },
   "outputs": [
    {
     "data": {
      "image/png": "[encoded data removed]",
      "text/plain": [
       "<Figure size 595.44x648 with 1 Axes>"
      ]
     },
     "metadata": {
      "needs_background": "light"
     },
     "output_type": "display_data"
    }
   ],
   "source": [
    "# bill_df['selfMade'] = np.array(bill_df['selfMade'])\n",
    "\n",
    "g = sns.catplot(x = 'selfMade', y = bill_df.index.values, data = bill_df ,kind = 'bar', hue= 'gender')\n",
    "g.fig.set_figwidth(8.27)\n",
    "g.fig.set_figheight(9)\n",
    "plt.ylabel('Count of Persons')\n",
    "plt.show()"
   ]
  },
  {
   "cell_type": "markdown",
   "id": "413ece69",
   "metadata": {
    "papermill": {
     "duration": 0.040474,
     "end_time": "2022-06-27T23:19:46.445065",
     "exception": false,
     "start_time": "2022-06-27T23:19:46.404591",
     "status": "completed"
    },
    "tags": []
   },
   "source": [
    "**What category has the richest people?**\n",
    "\n",
    "Earlier we looked at the category with the most number of billionaires, now we want to analyse which category has billionaires with high finalWorth. To answer the above question, we would look at billionaires who are worth more than 50 billion."
   ]
  },
  {
   "cell_type": "code",
   "execution_count": 19,
   "id": "da01b007",
   "metadata": {
    "execution": {
     "iopub.execute_input": "2022-06-27T23:19:46.529018Z",
     "iopub.status.busy": "2022-06-27T23:19:46.528738Z",
     "iopub.status.idle": "2022-06-27T23:19:46.539559Z",
     "shell.execute_reply": "2022-06-27T23:19:46.538905Z"
    },
    "papermill": {
     "duration": 0.055084,
     "end_time": "2022-06-27T23:19:46.541753",
     "exception": false,
     "start_time": "2022-06-27T23:19:46.486669",
     "status": "completed"
    },
    "tags": []
   },
   "outputs": [
    {
     "data": {
      "text/plain": [
       "(25, 10)"
      ]
     },
     "execution_count": 19,
     "metadata": {},
     "output_type": "execute_result"
    }
   ],
   "source": [
    "df = bill_df.query(\"finalWorth >= 50000\")\n",
    "df.shape"
   ]
  },
  {
   "cell_type": "code",
   "execution_count": 20,
   "id": "3dc01bd6",
   "metadata": {
    "execution": {
     "iopub.execute_input": "2022-06-27T23:19:46.626622Z",
     "iopub.status.busy": "2022-06-27T23:19:46.625760Z",
     "iopub.status.idle": "2022-06-27T23:19:46.831346Z",
     "shell.execute_reply": "2022-06-27T23:19:46.830512Z"
    },
    "papermill": {
     "duration": 0.250514,
     "end_time": "2022-06-27T23:19:46.833755",
     "exception": false,
     "start_time": "2022-06-27T23:19:46.583241",
     "status": "completed"
    },
    "tags": []
   },
   "outputs": [
    {
     "data": {
      "image/png": "[encoded data removed]",
      "text/plain": [
       "<Figure size 720x432 with 1 Axes>"
      ]
     },
     "metadata": {
      "needs_background": "light"
     },
     "output_type": "display_data"
    }
   ],
   "source": [
    "df.groupby('category')['personName'].count().plot(kind = 'bar', ylabel = 'Count of Billionaires', xlabel = 'Category', figsize=(10,6))\n",
    "plt.show()"
   ]
  },
  {
   "cell_type": "markdown",
   "id": "0ed6dca2",
   "metadata": {
    "papermill": {
     "duration": 0.042161,
     "end_time": "2022-06-27T23:19:46.918566",
     "exception": false,
     "start_time": "2022-06-27T23:19:46.876405",
     "status": "completed"
    },
    "tags": []
   },
   "source": [
    "It can be concluded that the richer billionaires come from the **Technology industry**."
   ]
  }
 ],
 "metadata": {
  "kernelspec": {
   "display_name": "Python 3",
   "language": "python",
   "name": "python3"
  },
  "language_info": {
   "codemirror_mode": {
    "name": "ipython",
    "version": 3
   },
   "file_extension": ".py",
   "mimetype": "text/x-python",
   "name": "python",
   "nbconvert_exporter": "python",
   "pygments_lexer": "ipython3",
   "version": "3.7.12"
  },
  "papermill": {
   "default_parameters": {},
   "duration": 15.946345,
   "end_time": "2022-06-27T23:19:47.783633",
   "environment_variables": {},
   "exception": null,
   "input_path": "__notebook__.ipynb",
   "output_path": "__notebook__.ipynb",
   "parameters": {},
   "start_time": "2022-06-27T23:19:31.837288",
   "version": "2.3.4"
  }
 },
 "nbformat": 4,
 "nbformat_minor": 5
}
